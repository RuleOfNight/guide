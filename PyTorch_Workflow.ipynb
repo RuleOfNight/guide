{
  "nbformat": 4,
  "nbformat_minor": 0,
  "metadata": {
    "colab": {
      "provenance": [],
      "gpuType": "T4",
      "authorship_tag": "ABX9TyN5sW1WbHxponltWYc9Q/fr",
      "include_colab_link": true
    },
    "kernelspec": {
      "name": "python3",
      "display_name": "Python 3"
    },
    "language_info": {
      "name": "python"
    },
    "accelerator": "GPU"
  },
  "cells": [
    {
      "cell_type": "markdown",
      "metadata": {
        "id": "view-in-github",
        "colab_type": "text"
      },
      "source": [
        "<a href=\"https://colab.research.google.com/github/RuleOfNight/guide/blob/khoa/PyTorch_Workflow.ipynb\" target=\"_parent\"><img src=\"https://colab.research.google.com/assets/colab-badge.svg\" alt=\"Open In Colab\"/></a>"
      ]
    },
    {
      "cell_type": "markdown",
      "source": [
        "# 01. PyTorch Workflow\n",
        "\n",
        "Resourcers:\n",
        "* Ground truth notebook - https://github.com/mrdbourke/pytorch-deep-learning/blob/main/01_pytorch_workflow.ipynb\n",
        "* Book version of notebook - https://www.learnpytorch.io/01_pytorch_workflow/"
      ],
      "metadata": {
        "id": "wqwHJtnCdJvS"
      }
    },
    {
      "cell_type": "code",
      "source": [
        "what_were_covering = {1: \"Data(chuẩn bị dữ liệu)\",\n",
        "                      2: \"Xây dựng model\",\n",
        "                      3: \"Huấn luyện model với dữ liệu(training)\",\n",
        "                      4: \"Dự đoán và đánh giá mô hình(Ìnerence)\",\n",
        "                      5: \"Lưu và tải mô hình\",\n",
        "                      6: \"Tổng kết\"\n",
        "\n",
        "}\n",
        "what_were_covering"
      ],
      "metadata": {
        "colab": {
          "base_uri": "https://localhost:8080/"
        },
        "id": "ysz49elldwhJ",
        "outputId": "2315105f-56c2-4556-f050-03b01bd5a7c0"
      },
      "execution_count": 2,
      "outputs": [
        {
          "output_type": "execute_result",
          "data": {
            "text/plain": [
              "{1: 'Data(chuẩn bị dữ liệu)',\n",
              " 2: 'Xây dựng model',\n",
              " 3: 'Huấn luyện model với dữ liệu(training)',\n",
              " 4: 'Dự đoán và đánh giá mô hình(Ìnerence)',\n",
              " 5: 'Lưu và tải mô hình',\n",
              " 6: 'Tổng kết'}"
            ]
          },
          "metadata": {},
          "execution_count": 2
        }
      ]
    },
    {
      "cell_type": "code",
      "source": [
        "import torch\n",
        "from torch import nn #nn chứa tất cả những gì pytorch có để xây dựn 1 neutral network\n",
        "import matplotlib.pyplot as plt\n",
        "\n",
        "torch.__version__"
      ],
      "metadata": {
        "colab": {
          "base_uri": "https://localhost:8080/",
          "height": 35
        },
        "id": "hgGc0OqYffKT",
        "outputId": "6faa1db9-4034-46a3-db7d-7cc8faec8828"
      },
      "execution_count": 3,
      "outputs": [
        {
          "output_type": "execute_result",
          "data": {
            "text/plain": [
              "'2.5.1+cu121'"
            ],
            "application/vnd.google.colaboratory.intrinsic+json": {
              "type": "string"
            }
          },
          "metadata": {},
          "execution_count": 3
        }
      ]
    },
    {
      "cell_type": "markdown",
      "source": [
        "# 1. Chuẩn bị dữ liệu\n",
        "\n",
        "Data rất quan trọng trong Machine Learning, và nó có thể là rất nhiều loại\n",
        "\n",
        "* Excel sheet\n",
        "* Ảnh hoặc tương tự\n",
        "* Videos\n",
        "* Audio\n",
        "* DNA\n",
        "* Text\n",
        "\n",
        "Machine Leaning là trò chơi gồm 2 phần\n",
        "1. Biến data thành các biểu diễn số\n",
        "2. Xây dựng 1 mô hình để học hỏi số data ở trên\n",
        "\n"
      ],
      "metadata": {
        "id": "prwzdjj5gXc4"
      }
    },
    {
      "cell_type": "code",
      "source": [
        "weight = 0.7\n",
        "bias = 0.3\n",
        "\n",
        "X = torch.arange(0,1,0.02).unsqueeze(dim =1)\n",
        "y = weight * X + bias\n",
        "\n",
        "X[:10], y[:10]"
      ],
      "metadata": {
        "id": "bj5PN0DdgK7T",
        "colab": {
          "base_uri": "https://localhost:8080/"
        },
        "outputId": "92f40cf6-0954-4390-b425-a5ec9c003a73"
      },
      "execution_count": 4,
      "outputs": [
        {
          "output_type": "execute_result",
          "data": {
            "text/plain": [
              "(tensor([[0.0000],\n",
              "         [0.0200],\n",
              "         [0.0400],\n",
              "         [0.0600],\n",
              "         [0.0800],\n",
              "         [0.1000],\n",
              "         [0.1200],\n",
              "         [0.1400],\n",
              "         [0.1600],\n",
              "         [0.1800]]),\n",
              " tensor([[0.3000],\n",
              "         [0.3140],\n",
              "         [0.3280],\n",
              "         [0.3420],\n",
              "         [0.3560],\n",
              "         [0.3700],\n",
              "         [0.3840],\n",
              "         [0.3980],\n",
              "         [0.4120],\n",
              "         [0.4260]]))"
            ]
          },
          "metadata": {},
          "execution_count": 4
        }
      ]
    },
    {
      "cell_type": "code",
      "source": [
        "len(X), len(y)"
      ],
      "metadata": {
        "colab": {
          "base_uri": "https://localhost:8080/"
        },
        "id": "J8gvLgk9rhY_",
        "outputId": "e76b62a6-1664-4f11-f80c-3629b214fe9e"
      },
      "execution_count": 5,
      "outputs": [
        {
          "output_type": "execute_result",
          "data": {
            "text/plain": [
              "(50, 50)"
            ]
          },
          "metadata": {},
          "execution_count": 5
        }
      ]
    },
    {
      "cell_type": "markdown",
      "source": [
        "# Chia data ra thành các training set và test set"
      ],
      "metadata": {
        "id": "Mp31rXPLrGQ9"
      }
    },
    {
      "cell_type": "code",
      "source": [
        "#Tạo train/test\n",
        "train_split = int(0.8 * len(X))\n",
        "X_train, y_train = X[:train_split], y[:train_split]\n",
        "X_test, y_test = X[train_split:], y[train_split:]\n",
        "\n",
        "len(X_train), len(y_train), len(X_test), len(y_test)"
      ],
      "metadata": {
        "colab": {
          "base_uri": "https://localhost:8080/"
        },
        "id": "h2U2AeXlpRqa",
        "outputId": "77e6f1c7-dcd6-4fd0-b64c-ed792dce15d9"
      },
      "execution_count": 6,
      "outputs": [
        {
          "output_type": "execute_result",
          "data": {
            "text/plain": [
              "(40, 40, 10, 10)"
            ]
          },
          "metadata": {},
          "execution_count": 6
        }
      ]
    },
    {
      "cell_type": "markdown",
      "source": [
        "# 2. Tạo Model\n"
      ],
      "metadata": {
        "id": "i9Pqt14UwcRp"
      }
    },
    {
      "cell_type": "code",
      "source": [
        "def plot_predictions(train_data=X_train,\n",
        "                     train_labels=y_train,\n",
        "                     test_data=X_test,\n",
        "                     test_labels=y_test,\n",
        "                     predictions=None):\n",
        "  \"\"\"\n",
        "  Plots training data, test data and compares predictions.\n",
        "  \"\"\"\n",
        "  plt.figure(figsize=(7, 4))\n",
        "\n",
        "  # Plot training data in blue\n",
        "  plt.scatter(train_data, train_labels, c=\"b\", s=4, label=\"Training data\")\n",
        "\n",
        "  # Plot test data in green\n",
        "  plt.scatter(test_data, test_labels, c=\"g\", s=4, label=\"Testing data\")\n",
        "\n",
        "  if predictions is not None:\n",
        "    # Plot the predictions in red (predictions were made on the test data)\n",
        "    plt.scatter(test_data, predictions, c=\"r\", s=4, label=\"Predictions\")\n",
        "\n",
        "  # Show the legend\n",
        "  plt.legend(prop={\"size\": 14});"
      ],
      "metadata": {
        "id": "oje_6jLJreLC"
      },
      "execution_count": 7,
      "outputs": []
    },
    {
      "cell_type": "code",
      "source": [
        "plot_predictions();"
      ],
      "metadata": {
        "colab": {
          "base_uri": "https://localhost:8080/",
          "height": 368
        },
        "id": "vEYOH46E_AfM",
        "outputId": "399857e4-280d-4d58-91c9-00e449a9a4d8"
      },
      "execution_count": 8,
      "outputs": [
        {
          "output_type": "display_data",
          "data": {
            "text/plain": [
              "<Figure size 700x400 with 1 Axes>"
            ],
            "image/png": "[encoded data removed]"
          },
          "metadata": {}
        }
      ]
    },
    {
      "cell_type": "code",
      "source": [
        "# Tạo 1 mô hình class hồi quy tuyến tính\n",
        "class LinearRegressionModel(nn.Module): # <- almost everything in PyTorch is a nn.Module (think of this as neural network lego blocks)\n",
        "    def __init__(self):\n",
        "        super().__init__()\n",
        "        self.weights = nn.Parameter(torch.randn(1, # <- tạo một số random weights (cách mà máy học)\n",
        "                                                dtype=torch.float), # <- float32 là default\n",
        "                                   requires_grad=True) # <- tối ưu kết quả bằng tự dộng đạo hàm\n",
        "\n",
        "        self.bias = nn.Parameter(torch.randn(1),requires_grad=True)\n",
        "\n",
        "    # Định nghĩa cách thức tính toán đầu ra dựa vào đầu vào\n",
        "    def forward(self, x: torch.Tensor) -> torch.Tensor: # <- X : dữ liệu đầu vào\n",
        "        return ((self.weights * x) + self.bias) # <- công thức cơ bản của hồi quy tuyến tính (y = w*X + b)"
      ],
      "metadata": {
        "id": "S6K505P0_a1L"
      },
      "execution_count": 9,
      "outputs": []
    },
    {
      "cell_type": "code",
      "source": [
        "# Vì weight và bias tạo random, nên sd seed để tạo ra 1 giá trị cố định mỗi lần chạy(giả ngẫu nhiên)\n",
        "torch.manual_seed(42)\n",
        "\n",
        "# subclass của nn.Module\n",
        "model_0 = LinearRegressionModel()\n",
        "\n",
        "\n",
        "print(list(model_0.parameters()))\n",
        "print()\n",
        "# List named parameters\n",
        "print(model_0.state_dict())"
      ],
      "metadata": {
        "colab": {
          "base_uri": "https://localhost:8080/"
        },
        "id": "Z1zsEm_Uj4An",
        "outputId": "c674f3c9-dd9b-43e8-85a5-2f6c9d93300e"
      },
      "execution_count": 10,
      "outputs": [
        {
          "output_type": "stream",
          "name": "stdout",
          "text": [
            "[Parameter containing:\n",
            "tensor([0.3367], requires_grad=True), Parameter containing:\n",
            "tensor([0.1288], requires_grad=True)]\n",
            "\n",
            "OrderedDict([('weights', tensor([0.3367])), ('bias', tensor([0.1288]))])\n"
          ]
        }
      ]
    },
    {
      "cell_type": "markdown",
      "source": [
        "# Tạo dự đoán sử dụng `torch.inference_mode()`\n",
        "\n",
        "\n",
        "Để kiếm tra chúng ta có thể cho nó test data X_test và xem dộ chính xác mà nó dự đoán y_test.\n",
        "\n",
        "Khi chúng ta ném data cho model, nó sẽ đi thẳng đến hàm `forward()` của model và cho ra kết quả sử dụng nhưng tính toán chúng ta đã xác định.\n",
        "\n",
        "Hãy tạo một số dự đoán:"
      ],
      "metadata": {
        "id": "kp-MPVFoqIN7"
      }
    },
    {
      "cell_type": "code",
      "source": [
        "with torch.inference_mode():\n",
        "  y_preds = model_0(X_test)\n",
        "  print(y_preds)\n",
        "\n",
        "# Note: in older PyTorch code you might also see torch.no_grad()\n",
        "# torch.inference_mode mới hơn, chạy nhanh hơn no_grad()\n",
        "# with torch.no_grad():\n",
        "#   y_preds = model_0(X_test)"
      ],
      "metadata": {
        "colab": {
          "base_uri": "https://localhost:8080/"
        },
        "id": "KMHSep2Cj6GI",
        "outputId": "76335a7d-baf5-4aaa-ae46-b416ed7d84d7"
      },
      "execution_count": 11,
      "outputs": [
        {
          "output_type": "stream",
          "name": "stdout",
          "text": [
            "tensor([[0.3982],\n",
            "        [0.4049],\n",
            "        [0.4116],\n",
            "        [0.4184],\n",
            "        [0.4251],\n",
            "        [0.4318],\n",
            "        [0.4386],\n",
            "        [0.4453],\n",
            "        [0.4520],\n",
            "        [0.4588]])\n"
          ]
        }
      ]
    },
    {
      "cell_type": "code",
      "source": [
        "# Kiểm tra dự đoán\n",
        "print(f\"Number of testing samples: {len(X_test)}\")\n",
        "print(f\"Number of predictions made: {len(y_preds)}\")\n",
        "print(f\"Predicted values:\\n{y_preds}\")"
      ],
      "metadata": {
        "colab": {
          "base_uri": "https://localhost:8080/"
        },
        "id": "4ReuEG4nsjm7",
        "outputId": "9f497bd1-4266-42f2-f83e-b02e4d68623a"
      },
      "execution_count": 12,
      "outputs": [
        {
          "output_type": "stream",
          "name": "stdout",
          "text": [
            "Number of testing samples: 10\n",
            "Number of predictions made: 10\n",
            "Predicted values:\n",
            "tensor([[0.3982],\n",
            "        [0.4049],\n",
            "        [0.4116],\n",
            "        [0.4184],\n",
            "        [0.4251],\n",
            "        [0.4318],\n",
            "        [0.4386],\n",
            "        [0.4453],\n",
            "        [0.4520],\n",
            "        [0.4588]])\n"
          ]
        }
      ]
    },
    {
      "cell_type": "code",
      "source": [
        "plot_predictions(predictions=y_preds)\n",
        "%time"
      ],
      "metadata": {
        "colab": {
          "base_uri": "https://localhost:8080/",
          "height": 403
        },
        "id": "A0tXPyQwuFrk",
        "outputId": "cfbf3890-67a4-425f-f0c7-c0421a374e73"
      },
      "execution_count": 13,
      "outputs": [
        {
          "output_type": "stream",
          "name": "stdout",
          "text": [
            "CPU times: user 2 µs, sys: 0 ns, total: 2 µs\n",
            "Wall time: 5.96 µs\n"
          ]
        },
        {
          "output_type": "display_data",
          "data": {
            "text/plain": [
              "<Figure size 700x400 with 1 Axes>"
            ],
            "image/png": "[encoded data removed]"
          },
          "metadata": {}
        }
      ]
    },
    {
      "cell_type": "code",
      "source": [
        "y_test - y_preds"
      ],
      "metadata": {
        "colab": {
          "base_uri": "https://localhost:8080/"
        },
        "id": "ticuQSCKu2GO",
        "outputId": "58be9922-74b5-46a2-9eab-785e0b1941a1"
      },
      "execution_count": 14,
      "outputs": [
        {
          "output_type": "execute_result",
          "data": {
            "text/plain": [
              "tensor([[0.4618],\n",
              "        [0.4691],\n",
              "        [0.4764],\n",
              "        [0.4836],\n",
              "        [0.4909],\n",
              "        [0.4982],\n",
              "        [0.5054],\n",
              "        [0.5127],\n",
              "        [0.5200],\n",
              "        [0.5272]])"
            ]
          },
          "metadata": {},
          "execution_count": 14
        }
      ]
    },
    {
      "cell_type": "markdown",
      "source": [
        "# 3. Train Model\n",
        "\n",
        "- Hiện tại, model của chúng ta đang đưa ra dự đoán bằng cách sử dụng các tham số ngẫu nhiên để thực hiện các phép tính, nó cơ bản là đang đoán (một cách ngẫu nhiên).\n",
        "\n",
        "- Để khắc phục điều đó, chúng ta có thể cập nhật các tham số bên trong của nó, các giá trị weight và bias mà ta thiết lập ngẫu nhiên bằng cách sử dụng nn.Parameter() và torch.randn() để trở thành điều gì đó tốt hơn để thể hiện dữ liệu.\n",
        "\n",
        "- Chúng ta có thể mã hóa cứng điều này (vì chúng ta biết các giá trị mặc định là weight=0.7 và bias=0.3)\n",
        "\n",
        "- Phần lớn thời gian, bạn sẽ không biết các tham số lý tưởng cho một mô hình là gì.\n",
        "\n",
        "- Thay vào đó, viết mã để xem liệu mô hình có thể tự tìm ra chúng hay không thì thú vị hơn nhiều."
      ],
      "metadata": {
        "id": "8SY1IWZuwU7X"
      }
    },
    {
      "cell_type": "code",
      "source": [
        "# Tạo hàm mất mát (loss function)\n",
        "loss_fn = nn.L1Loss() # MAE loss is same as L1Loss\n",
        "\n",
        "# Tạo hàm tối ưu\n",
        "optimizer = torch.optim.SGD(params=model_0.parameters(), # parameters of target model to optimize\n",
        "                            lr=0.001) # lr = learning rate : tỉ lệ học của máy 0.01 -> 0.001 -> 0.0001, càng nhỏ càng chính xác(đừng nhỏ quá)"
      ],
      "metadata": {
        "id": "JIzCXhcFvYJG"
      },
      "execution_count": 15,
      "outputs": []
    },
    {
      "cell_type": "markdown",
      "source": [
        "\n",
        "# PyTorch training loop\n",
        "1.   Forward pass - Model sẽ chạy thẳng qua các training data - `model(x_train)`\n",
        "2.   Tính toán mất mát - Output của model(dự đoán) sẽ đem so sánh với bản gốc và chỉ ra sai số bao nhiêu - `loss = loss_fn(y_pred, y_train)`\n",
        "3.   Zero grad - Cài đặt gradient = 0 sau mỗi vòng lặp - `optimizer.zero_grad()`\n",
        "4.   Lan truyền ngược lỗi - Tính toán gradient của hàm mất mát theo từng tham số trong mô hình, tức là gradient của lỗi với mỗi tham số để cập nhật các tham số của mô hình. Đây là quá trình backpropagation - `loss.backward()`\n",
        "5.   Cập nhật optimizer (gradient descent) - Cập nhật các tham số của mô hình (có requires_grad=True) theo gradient tính được trong bước trước, nhằm giảm thiểu lỗi và cải thiện mô hình - `optimizer.step()`\n",
        "\n"
      ],
      "metadata": {
        "id": "7Cn5-CH9zDBl"
      }
    },
    {
      "cell_type": "markdown",
      "source": [
        "# 4. Tạo dự đoán với PyTorch model"
      ],
      "metadata": {
        "id": "V1Axd4cG63B-"
      }
    },
    {
      "cell_type": "code",
      "source": [
        "torch.manual_seed(42)\n",
        "\n",
        "# Số lần model thực hiện training\n",
        "epochs = 300\n",
        "\n",
        "# Tạo danh sáng hàm mất mát trống để đếm dl\n",
        "train_loss_values = []\n",
        "test_loss_values = []\n",
        "epoch_count = []\n",
        "\n",
        "for epoch in range(epochs):\n",
        "    ### Training\n",
        "\n",
        "    model_0.train()                     # Put model in training mode\n",
        "\n",
        "    y_pred = model_0(X_train)           # 1. Forward pass on train data using the forward() method inside\n",
        "    # print(y_pred)\n",
        "\n",
        "    loss = loss_fn(y_pred, y_train)     # 2. Calculate the loss (how different are our models predictions to the ground truth)\n",
        "\n",
        "    optimizer.zero_grad()               # 3. Zero grad of the optimizer\n",
        "\n",
        "    loss.backward()                     # 4. Loss backwards\n",
        "\n",
        "    optimizer.step()                    # 5. Progress the optimizer\n",
        "\n",
        "    ### Testing\n",
        "\n",
        "    # Put the model in evaluation mode\n",
        "    model_0.eval()\n",
        "\n",
        "    with torch.inference_mode():\n",
        "      # 1. Cho đi qua test data\n",
        "      test_pred = model_0(X_test)\n",
        "\n",
        "      # 2. Tính toán mất mát dựa trên test data\n",
        "      test_loss = loss_fn(test_pred, y_test.type(torch.float))\n",
        "\n",
        "\n",
        "      if epoch % 10 == 0:\n",
        "            epoch_count.append(epoch)\n",
        "            train_loss_values.append(loss.detach().numpy())\n",
        "            test_loss_values.append(test_loss.detach().numpy())\n",
        "            print(f\"Epoch: {epoch} | MAE Train Loss: {loss} | MAE Test Loss: {test_loss} \")"
      ],
      "metadata": {
        "colab": {
          "base_uri": "https://localhost:8080/"
        },
        "id": "dZ1agTnbymku",
        "outputId": "4ff2dc69-d7e6-4329-f261-6bca55f7ff3f"
      },
      "execution_count": 94,
      "outputs": [
        {
          "output_type": "stream",
          "name": "stdout",
          "text": [
            "Epoch: 0 | MAE Train Loss: 0.0004444979131221771 | MAE Test Loss: 0.0005780101055279374 \n",
            "Epoch: 10 | MAE Train Loss: 0.0004444979131221771 | MAE Test Loss: 0.0005780101055279374 \n",
            "Epoch: 20 | MAE Train Loss: 0.0004444979131221771 | MAE Test Loss: 0.0005780101055279374 \n",
            "Epoch: 30 | MAE Train Loss: 0.0004444979131221771 | MAE Test Loss: 0.0005780101055279374 \n",
            "Epoch: 40 | MAE Train Loss: 0.0004444979131221771 | MAE Test Loss: 0.0005780101055279374 \n",
            "Epoch: 50 | MAE Train Loss: 0.0004444979131221771 | MAE Test Loss: 0.0005780101055279374 \n",
            "Epoch: 60 | MAE Train Loss: 0.0004444979131221771 | MAE Test Loss: 0.0005780101055279374 \n",
            "Epoch: 70 | MAE Train Loss: 0.0004444979131221771 | MAE Test Loss: 0.0005780101055279374 \n",
            "Epoch: 80 | MAE Train Loss: 0.0004444979131221771 | MAE Test Loss: 0.0005780101055279374 \n",
            "Epoch: 90 | MAE Train Loss: 0.0004444979131221771 | MAE Test Loss: 0.0005780101055279374 \n",
            "Epoch: 100 | MAE Train Loss: 0.0004444979131221771 | MAE Test Loss: 0.0005780101055279374 \n",
            "Epoch: 110 | MAE Train Loss: 0.0004444979131221771 | MAE Test Loss: 0.0005780101055279374 \n",
            "Epoch: 120 | MAE Train Loss: 0.0004444979131221771 | MAE Test Loss: 0.0005780101055279374 \n",
            "Epoch: 130 | MAE Train Loss: 0.0004444979131221771 | MAE Test Loss: 0.0005780101055279374 \n",
            "Epoch: 140 | MAE Train Loss: 0.0004444979131221771 | MAE Test Loss: 0.0005780101055279374 \n",
            "Epoch: 150 | MAE Train Loss: 0.0004444979131221771 | MAE Test Loss: 0.0005780101055279374 \n",
            "Epoch: 160 | MAE Train Loss: 0.0004444979131221771 | MAE Test Loss: 0.0005780101055279374 \n",
            "Epoch: 170 | MAE Train Loss: 0.0004444979131221771 | MAE Test Loss: 0.0005780101055279374 \n",
            "Epoch: 180 | MAE Train Loss: 0.0004444979131221771 | MAE Test Loss: 0.0005780101055279374 \n",
            "Epoch: 190 | MAE Train Loss: 0.0004444979131221771 | MAE Test Loss: 0.0005780101055279374 \n",
            "Epoch: 200 | MAE Train Loss: 0.0004444979131221771 | MAE Test Loss: 0.0005780101055279374 \n",
            "Epoch: 210 | MAE Train Loss: 0.0004444979131221771 | MAE Test Loss: 0.0005780101055279374 \n",
            "Epoch: 220 | MAE Train Loss: 0.0004444979131221771 | MAE Test Loss: 0.0005780101055279374 \n",
            "Epoch: 230 | MAE Train Loss: 0.0004444979131221771 | MAE Test Loss: 0.0005780101055279374 \n",
            "Epoch: 240 | MAE Train Loss: 0.0004444979131221771 | MAE Test Loss: 0.0005780101055279374 \n",
            "Epoch: 250 | MAE Train Loss: 0.0004444979131221771 | MAE Test Loss: 0.0005780101055279374 \n",
            "Epoch: 260 | MAE Train Loss: 0.0004444979131221771 | MAE Test Loss: 0.0005780101055279374 \n",
            "Epoch: 270 | MAE Train Loss: 0.0004444979131221771 | MAE Test Loss: 0.0005780101055279374 \n",
            "Epoch: 280 | MAE Train Loss: 0.0004444979131221771 | MAE Test Loss: 0.0005780101055279374 \n",
            "Epoch: 290 | MAE Train Loss: 0.0004444979131221771 | MAE Test Loss: 0.0005780101055279374 \n"
          ]
        }
      ]
    },
    {
      "cell_type": "code",
      "source": [
        "# Plot the loss curves\n",
        "plt.plot(epoch_count, train_loss_values, label=\"Train loss\")\n",
        "plt.plot(epoch_count, test_loss_values, label=\"Test loss\")\n",
        "plt.title(\"Training and test loss curves\")\n",
        "plt.ylabel(\"Loss\")\n",
        "plt.xlabel(\"Epochs\")\n",
        "plt.legend();"
      ],
      "metadata": {
        "colab": {
          "base_uri": "https://localhost:8080/",
          "height": 472
        },
        "id": "jX9aIoeQzkjz",
        "outputId": "786aa43f-d4f9-4fc4-9842-278da353b203"
      },
      "execution_count": 95,
      "outputs": [
        {
          "output_type": "display_data",
          "data": {
            "text/plain": [
              "<Figure size 640x480 with 1 Axes>"
            ],
            "image/png": "[encoded data removed]"
          },
          "metadata": {}
        }
      ]
    },
    {
      "cell_type": "code",
      "source": [
        "# Tạo dự đoán với model (again)\n",
        "with torch.inference_mode():\n",
        "    y_preds = model_0(X_test)\n"
      ],
      "metadata": {
        "id": "Ah3KGJcQ1O35"
      },
      "execution_count": 96,
      "outputs": []
    },
    {
      "cell_type": "code",
      "source": [
        "plot_predictions(predictions=y_preds)"
      ],
      "metadata": {
        "colab": {
          "base_uri": "https://localhost:8080/",
          "height": 368
        },
        "id": "n6Px7Cjmzm46",
        "outputId": "59943cce-774e-4c09-a85f-b67eef9b382f"
      },
      "execution_count": 97,
      "outputs": [
        {
          "output_type": "display_data",
          "data": {
            "text/plain": [
              "<Figure size 700x400 with 1 Axes>"
            ],
            "image/png": "[encoded data removed]"
          },
          "metadata": {}
        }
      ]
    },
    {
      "cell_type": "code",
      "source": [
        "print(\"Dự đoán của model về trọng số (weight) và nhiễu (bias):\")\n",
        "print(model_0.state_dict())\n",
        "print(\"\\nGiá trị gốc của weight và bias:\")\n",
        "print(f\"weights: {weight}, bias: {bias}\")"
      ],
      "metadata": {
        "colab": {
          "base_uri": "https://localhost:8080/"
        },
        "id": "hCUGkj1TzpdN",
        "outputId": "04b0caf0-74e0-4aba-b011-6e1d0b903625"
      },
      "execution_count": 98,
      "outputs": [
        {
          "output_type": "stream",
          "name": "stdout",
          "text": [
            "Dự đoán của model về trọng số (weight) và nhiễu (bias):\n",
            "OrderedDict([('weights', tensor([0.6994])), ('bias', tensor([0.2998]))])\n",
            "\n",
            "Giá trị gốc của weight và bias:\n",
            "weights: 0.7, bias: 0.3\n"
          ]
        }
      ]
    },
    {
      "cell_type": "markdown",
      "source": [
        "# 5. Lưu và load PyTorch model"
      ],
      "metadata": {
        "id": "6SbePsHi7BzC"
      }
    },
    {
      "cell_type": "code",
      "source": [
        "from pathlib import Path\n",
        "\n",
        "# 1. Tạo nơi ở cho model\n",
        "MODEL_PATH = Path(\"models\")\n",
        "MODEL_PATH.mkdir(parents=True, exist_ok=True)\n",
        "\n",
        "# 2. Save path\n",
        "MODEL_NAME = \"01_pytorch_workflow_model_0.pth\"\n",
        "MODEL_SAVE_PATH = MODEL_PATH / MODEL_NAME\n",
        "\n",
        "# 3. Save the model state dict\n",
        "print(f\"Saving model to: {MODEL_SAVE_PATH}\")\n",
        "torch.save(obj=model_0.state_dict(),\n",
        "           f=MODEL_SAVE_PATH)"
      ],
      "metadata": {
        "colab": {
          "base_uri": "https://localhost:8080/"
        },
        "id": "LSEjZmLT5nSs",
        "outputId": "b2c2707d-395b-43f5-8f38-cb236b3a7627"
      },
      "execution_count": 99,
      "outputs": [
        {
          "output_type": "stream",
          "name": "stdout",
          "text": [
            "Saving model to: models/01_pytorch_workflow_model_0.pth\n"
          ]
        }
      ]
    },
    {
      "cell_type": "code",
      "source": [
        "# Check save path\n",
        "!ls -l models/01_pytorch_workflow_model_0.pth"
      ],
      "metadata": {
        "colab": {
          "base_uri": "https://localhost:8080/"
        },
        "id": "dqF5beLp7Hfh",
        "outputId": "bd1940b6-ea58-4c64-e115-36fbee1af952"
      },
      "execution_count": 100,
      "outputs": [
        {
          "output_type": "stream",
          "name": "stdout",
          "text": [
            "-rw-r--r-- 1 root root 1680 Dec 13 04:31 models/01_pytorch_workflow_model_0.pth\n"
          ]
        }
      ]
    },
    {
      "cell_type": "code",
      "source": [
        "loaded_model_0 = LinearRegressionModel()\n",
        "\n",
        "\n",
        "loaded_model_0.load_state_dict(torch.load(f=MODEL_SAVE_PATH))"
      ],
      "metadata": {
        "colab": {
          "base_uri": "https://localhost:8080/"
        },
        "id": "b96cYdDS7KjK",
        "outputId": "02476c80-74b1-43b8-dd8c-20f1587a0ba7"
      },
      "execution_count": 101,
      "outputs": [
        {
          "output_type": "stream",
          "name": "stderr",
          "text": [
            "<ipython-input-101-fc329411c36b>:4: FutureWarning: You are using `torch.load` with `weights_only=False` (the current default value), which uses the default pickle module implicitly. It is possible to construct malicious pickle data which will execute arbitrary code during unpickling (See https://github.com/pytorch/pytorch/blob/main/SECURITY.md#untrusted-models for more details). In a future release, the default value for `weights_only` will be flipped to `True`. This limits the functions that could be executed during unpickling. Arbitrary objects will no longer be allowed to be loaded via this mode unless they are explicitly allowlisted by the user via `torch.serialization.add_safe_globals`. We recommend you start setting `weights_only=True` for any use case where you don't have full control of the loaded file. Please open an issue on GitHub for any issues related to this experimental feature.\n",
            "  loaded_model_0.load_state_dict(torch.load(f=MODEL_SAVE_PATH))\n"
          ]
        },
        {
          "output_type": "execute_result",
          "data": {
            "text/plain": [
              "<All keys matched successfully>"
            ]
          },
          "metadata": {},
          "execution_count": 101
        }
      ]
    },
    {
      "cell_type": "code",
      "source": [
        "# 1. Đặt mô hình qua chế độ đánh giá\n",
        "loaded_model_0.eval()\n",
        "\n",
        "# 2. Dùng inference_mode để tạo dự đoán\n",
        "with torch.inference_mode():\n",
        "    loaded_model_preds = loaded_model_0(X_test)"
      ],
      "metadata": {
        "id": "7-6MphGo8PjD"
      },
      "execution_count": 102,
      "outputs": []
    },
    {
      "cell_type": "code",
      "source": [
        "# So sánh dự đoán model lúc trước và model vừa mới load\n",
        "y_preds == loaded_model_preds"
      ],
      "metadata": {
        "colab": {
          "base_uri": "https://localhost:8080/"
        },
        "id": "QlqoiZin8Wyc",
        "outputId": "3d26f9a3-3437-4077-c877-7bb61e0d8bdb"
      },
      "execution_count": 103,
      "outputs": [
        {
          "output_type": "execute_result",
          "data": {
            "text/plain": [
              "tensor([[True],\n",
              "        [True],\n",
              "        [True],\n",
              "        [True],\n",
              "        [True],\n",
              "        [True],\n",
              "        [True],\n",
              "        [True],\n",
              "        [True],\n",
              "        [True]])"
            ]
          },
          "metadata": {},
          "execution_count": 103
        }
      ]
    },
    {
      "cell_type": "code",
      "source": [
        "device = \"cuda\" if torch.cuda.is_available() else \"cpu\"\n",
        "print(f\"Using device: {device}\")"
      ],
      "metadata": {
        "colab": {
          "base_uri": "https://localhost:8080/"
        },
        "id": "pcc2Kku98ZK8",
        "outputId": "05a506fa-17d0-4dba-d216-28f031431671"
      },
      "execution_count": 104,
      "outputs": [
        {
          "output_type": "stream",
          "name": "stdout",
          "text": [
            "Using device: cuda\n"
          ]
        }
      ]
    },
    {
      "cell_type": "code",
      "source": [],
      "metadata": {
        "id": "GB71QEao9VFr"
      },
      "execution_count": 104,
      "outputs": []
    }
  ]
}